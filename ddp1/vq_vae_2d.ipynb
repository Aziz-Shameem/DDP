{
 "cells": [
  {
   "cell_type": "code",
   "execution_count": 1,
   "metadata": {},
   "outputs": [],
   "source": [
    "import os\n",
    "import numpy as np\n",
    "import torch\n",
    "import torch.nn as nn\n",
    "import torch.nn.functional as F\n",
    "from torchvision import datasets, transforms\n",
    "from sklearn.manifold import TSNE\n",
    "import seaborn as sns\n",
    "import pandas as pd\n",
    "import matplotlib.pyplot as plt\n",
    "from tqdm.auto import tqdm \n",
    "\n",
    "DEVICE = 'cuda:0' if torch.cuda.is_available() else 'cpu'\n",
    "\n",
    "%matplotlib inline"
   ]
  },
  {
   "cell_type": "code",
   "execution_count": 2,
   "metadata": {},
   "outputs": [],
   "source": [
    "class VectorQuantizer(nn.Module):\n",
    "    \"\"\"\n",
    "    VQ-VAE layer: Input any tensor to be quantized. \n",
    "    Args:\n",
    "        embedding_dim (int): the dimensionality of the tensors in the\n",
    "          quantized space. Inputs to the modules must be in this format as well.\n",
    "        num_embeddings (int): the number of vectors in the quantized space.\n",
    "        commitment_cost (float): scalar which controls the weighting of the loss terms (see\n",
    "          equation 4 in the paper - this variable is Beta).\n",
    "    \"\"\"\n",
    "    def __init__(self, embedding_dim, num_embeddings, commitment_cost):\n",
    "        super().__init__()\n",
    "        self.embedding_dim = embedding_dim\n",
    "        self.num_embeddings = num_embeddings\n",
    "        self.commitment_cost = commitment_cost\n",
    "        \n",
    "        # initialize embeddings\n",
    "        self.embeddings = nn.Embedding(self.num_embeddings, self.embedding_dim)\n",
    "\n",
    "    def forward(self, x):\n",
    "        # [B, C, H, W] -> [B, H, W, C]\n",
    "        # x = x.permute(0, 2, 1).contiguous()\n",
    "        # [B, H, W, C] -> [BHW, C]\n",
    "        flat_x = x.reshape(-1, self.embedding_dim)\n",
    "        \n",
    "        encoding_indices = self.get_code_indices(flat_x)\n",
    "        quantized = self.quantize(encoding_indices)\n",
    "        quantized = quantized.view_as(x) # [B, H, W, C]\n",
    "        \n",
    "        if self.training : \n",
    "            # embedding loss: move the embeddings towards the encoder's output\n",
    "            q_latent_loss = F.mse_loss(quantized, x.detach())\n",
    "            # commitment loss\n",
    "            e_latent_loss = F.mse_loss(x, quantized.detach())\n",
    "            loss = q_latent_loss + self.commitment_cost * e_latent_loss\n",
    "\n",
    "            # Straight Through Estimator\n",
    "            quantized = x + (quantized - x).detach()\n",
    "        \n",
    "        # quantized = quantized.permute(0, 2, 1).contiguous()\n",
    "            return quantized, loss\n",
    "        return quantized\n",
    "\n",
    "    def get_code_indices(self, flat_x):\n",
    "        # compute L2 distance\n",
    "        distances = (\n",
    "            torch.sum(flat_x ** 2, dim=1, keepdim=True) +\n",
    "            torch.sum(self.embeddings.weight ** 2, dim=1) -\n",
    "            2. * torch.matmul(flat_x, self.embeddings.weight.t())\n",
    "        ) # [N, M]\n",
    "        encoding_indices = torch.argmin(distances, dim=1) # [N,]\n",
    "        return encoding_indices\n",
    "    \n",
    "    def quantize(self, encoding_indices):\n",
    "        \"\"\"Returns embedding tensor for a batch of indices.\"\"\"\n",
    "        return self.embeddings(encoding_indices)  \n",
    "\n",
    "    "
   ]
  },
  {
   "cell_type": "code",
   "execution_count": 3,
   "metadata": {},
   "outputs": [],
   "source": [
    "class Encoder(nn.Module):\n",
    "    \"\"\"The encoder for VAE\"\"\"\n",
    "    \n",
    "    def __init__(self, input_dim, fc_dim, latent_dim):\n",
    "        super().__init__()\n",
    "        \n",
    "        self.fwd = nn.Sequential(\n",
    "            nn.Linear(input_dim, fc_dim),\n",
    "            nn.ReLU(),\n",
    "            nn.Linear(fc_dim, fc_dim),\n",
    "            nn.ReLU(),\n",
    "            nn.Linear(fc_dim, latent_dim)\n",
    "        )\n",
    "                    \n",
    "    def forward(self, x):\n",
    "        x = self.fwd(x)\n",
    "        return x \n",
    "\n",
    "class Decoder(nn.Module):\n",
    "    \"\"\"The decoder for VAE\"\"\"\n",
    "    \n",
    "    def __init__(self, latent_dim, fc_dim, output_dim):\n",
    "        super().__init__()\n",
    "\n",
    "        self.fwd = nn.Sequential(\n",
    "            nn.Linear(latent_dim, fc_dim),\n",
    "            nn.ReLU(),\n",
    "            nn.Linear(fc_dim, fc_dim),\n",
    "            nn.ReLU(),\n",
    "            nn.Linear(fc_dim, output_dim),\n",
    "            nn.Sigmoid()\n",
    "        )\n",
    "        \n",
    "    def forward(self, x):\n",
    "        return self.fwd(x)"
   ]
  },
  {
   "cell_type": "code",
   "execution_count": 4,
   "metadata": {},
   "outputs": [],
   "source": [
    "class VQVAE(nn.Module):\n",
    "    \"\"\"VQ-VAE\"\"\"\n",
    "    \n",
    "    def __init__(self, in_dim, embedding_dim, fc_dim, num_embeddings, data_variance, \n",
    "                 commitment_cost=0.25):\n",
    "        super().__init__()\n",
    "        self.in_dim = in_dim\n",
    "        self.embedding_dim = embedding_dim\n",
    "        self.num_embeddings = num_embeddings\n",
    "        self.data_variance = data_variance\n",
    "        \n",
    "        self.encoder = Encoder(in_dim,fc_dim, embedding_dim)\n",
    "        self.vq_layer = VectorQuantizer(embedding_dim, num_embeddings, commitment_cost)\n",
    "        self.decoder = Decoder(embedding_dim, fc_dim, in_dim)\n",
    "        \n",
    "    def forward(self, x):\n",
    "        z = self.encoder(x)\n",
    "        if not self.training:\n",
    "            e = self.vq_layer(z)\n",
    "            x_recon = self.decoder(e)\n",
    "            return e, x_recon\n",
    "        \n",
    "        e, e_q_loss = self.vq_layer(z)\n",
    "        x_recon = self.decoder(e)\n",
    "        \n",
    "        recon_loss = F.mse_loss(x_recon, x) / self.data_variance\n",
    "        \n",
    "        return e_q_loss + recon_loss  "
   ]
  },
  {
   "cell_type": "code",
   "execution_count": 5,
   "metadata": {},
   "outputs": [
    {
     "data": {
      "text/plain": [
       "<matplotlib.collections.PathCollection at 0x7f63a0476e40>"
      ]
     },
     "execution_count": 5,
     "metadata": {},
     "output_type": "execute_result"
    },
    {
     "data": {
      "image/png": "[encoded data removed]",
      "text/plain": [
       "<Figure size 640x480 with 1 Axes>"
      ]
     },
     "metadata": {},
     "output_type": "display_data"
    }
   ],
   "source": [
    "num_points = 10000\n",
    "filter = lambda x : x # if x>0.55 or x<0.45 else 0.5 + (x>0)*0.05\n",
    "X1 = [0.5]*num_points\n",
    "Y1 = [filter(x) for x in torch.rand(num_points)]\n",
    "X2 = [filter(x) for x in torch.rand(num_points)]\n",
    "Y2 = [0.5]*num_points\n",
    "data1 = [(x,y) for x,y in zip(X1,Y1)]\n",
    "data2 = [(x,y) for x,y in zip(X2,Y2)]\n",
    "cross_data = data1 + data2\n",
    "\n",
    "plt.scatter([i[0] for i in cross_data], [i[1] for i in cross_data])"
   ]
  },
  {
   "cell_type": "code",
   "execution_count": 6,
   "metadata": {},
   "outputs": [],
   "source": [
    "class cross_dataset(torch.utils.data.Dataset) :\n",
    "    def __init__(self, arr, transforms=None, subset=0) :\n",
    "        self.arr = arr\n",
    "        self.transforms = transforms\n",
    "        if subset>0 : self.arr = self.arr[:subset]\n",
    "    def __len__(self) :\n",
    "        return len(self.arr)\n",
    "    def __getitem__(self, idx) :\n",
    "        Data = self.arr[idx]\n",
    "        if self.transforms :\n",
    "            Data = self.transforms(Data)\n",
    "        return torch.tensor(Data)\n"
   ]
  },
  {
   "cell_type": "code",
   "execution_count": 9,
   "metadata": {},
   "outputs": [
    {
     "name": "stdout",
     "output_type": "stream",
     "text": [
      "params 890\n"
     ]
    }
   ],
   "source": [
    "epochs = 4000\n",
    "embedding_dim = 2 # latent dim\n",
    "num_embeddings = 128\n",
    "fc_dim = 15\n",
    "\n",
    "transform=transforms.Compose([\n",
    "    transforms.ToTensor(),\n",
    "])\n",
    "\n",
    "dataset = cross_dataset(cross_data)\n",
    "train_loader = torch.utils.data.DataLoader(dataset, batch_size=len(dataset), shuffle=False)\n",
    "# test_loader = torch.utils.data.DataLoader(dataset2, batch_size=batch_size)\n",
    "\n",
    "# compute the variance of the whole training set to normalise the Mean Squared Error below.\n",
    "train_images = []\n",
    "for images in train_loader:\n",
    "    train_images.append(images)\n",
    "train_images = torch.cat(train_images, dim=0)\n",
    "train_data_variance = torch.var(train_images)\n",
    "\n",
    "model = VQVAE(2, embedding_dim, fc_dim, num_embeddings, train_data_variance)\n",
    "model = model.cuda()\n",
    "\n",
    "optimizer = torch.optim.Adam(model.parameters(), lr=1e-3)\n",
    "print('params', sum([p.numel() for p in model.parameters()]))\n"
   ]
  },
  {
   "cell_type": "code",
   "execution_count": 10,
   "metadata": {},
   "outputs": [
    {
     "data": {
      "application/vnd.jupyter.widget-view+json": {
       "model_id": "8cdee164842346339948f6f1a38ba1af",
       "version_major": 2,
       "version_minor": 0
      },
      "text/plain": [
       "  0%|          | 0/4000 [00:00<?, ?it/s]"
      ]
     },
     "metadata": {},
     "output_type": "display_data"
    },
    {
     "name": "stdout",
     "output_type": "stream",
     "text": [
      "Epoch 0, loss 1.0486623048782349\n",
      "Epoch 300, loss 0.30698493123054504\n",
      "Epoch 600, loss 0.06569503247737885\n",
      "Epoch 900, loss 0.019278807565569878\n",
      "Epoch 1200, loss 0.016095943748950958\n",
      "Epoch 1500, loss 0.014901617541909218\n",
      "Epoch 1800, loss 0.01454334706068039\n",
      "Epoch 2100, loss 0.015141895972192287\n",
      "Epoch 2400, loss 0.013312535360455513\n",
      "Epoch 2700, loss 0.011322243139147758\n",
      "Epoch 3000, loss 0.010377662256360054\n",
      "Epoch 3300, loss 0.009817419573664665\n",
      "Epoch 3600, loss 0.008630890399217606\n",
      "Epoch 3900, loss 0.008937315084040165\n"
     ]
    }
   ],
   "source": [
    "losslog = []\n",
    "recons = []\n",
    "xs = []\n",
    "for epoch in tqdm(range(epochs)):\n",
    "    for i, (images) in enumerate(train_loader):\n",
    "        images = images.to(DEVICE)\n",
    "        loss = model(images)\n",
    "\n",
    "        optimizer.zero_grad()\n",
    "        loss.backward()\n",
    "        optimizer.step()\n",
    "\n",
    "        with torch.no_grad() : losslog.append(loss.item())\n",
    "    if epoch%300==0 : \n",
    "        tqdm.write(f'Epoch {epoch}, loss {loss.item()}')\n",
    "\n",
    "# optimizer.param_groups[0]['lr'] /= 10\n",
    "# for epoch in tqdm(range(1200)):\n",
    "#     for i, (images) in enumerate(train_loader):\n",
    "#         images = images.to(DEVICE)\n",
    "#         recon, mu, log_var = model(images)\n",
    "#         loss = model.compute_loss(images, recon, mu, log_var)\n",
    "\n",
    "#         optimizer.zero_grad()\n",
    "#         loss.backward()\n",
    "#         optimizer.step()\n",
    "\n",
    "#         with torch.no_grad() : losslog.append(loss.item())\n",
    "#     if epoch%1==0 : \n",
    "#         tqdm.write(f'Epoch {epoch}, loss {loss.item()}')"
   ]
  },
  {
   "cell_type": "code",
   "execution_count": 11,
   "metadata": {},
   "outputs": [
    {
     "data": {
      "text/plain": [
       "[<matplotlib.lines.Line2D at 0x7f63993f9d00>]"
      ]
     },
     "execution_count": 11,
     "metadata": {},
     "output_type": "execute_result"
    },
    {
     "data": {
      "image/png": "[encoded data removed]",
      "text/plain": [
       "<Figure size 640x480 with 1 Axes>"
      ]
     },
     "metadata": {},
     "output_type": "display_data"
    }
   ],
   "source": [
    "plt.plot(losslog)"
   ]
  },
  {
   "cell_type": "code",
   "execution_count": 27,
   "metadata": {},
   "outputs": [],
   "source": [
    "# reconstruct images\n",
    "\n",
    "test_loader_iter = iter(train_loader)\n",
    "images = next(test_loader_iter)\n",
    "\n",
    "n_samples = 500\n",
    "images = images[::len(images)//n_samples]\n",
    "\n",
    "model.eval() # sets model.training to False\n",
    "\n",
    "with torch.inference_mode():\n",
    "    e, recon_images = model(images.to(next(model.parameters()).device))\n",
    "    recon_images = recon_images.cpu()"
   ]
  },
  {
   "cell_type": "code",
   "execution_count": 28,
   "metadata": {},
   "outputs": [
    {
     "data": {
      "text/plain": [
       "(0.0, 1.0)"
      ]
     },
     "execution_count": 28,
     "metadata": {},
     "output_type": "execute_result"
    },
    {
     "data": {
      "image/png": "[encoded data removed]",
      "text/plain": [
       "<Figure size 640x480 with 1 Axes>"
      ]
     },
     "metadata": {},
     "output_type": "display_data"
    }
   ],
   "source": [
    "plt.scatter(recon_images[:,0], recon_images[:,1])\n",
    "plt.xlim(0., 1.)\n",
    "plt.ylim(0., 1.)"
   ]
  },
  {
   "cell_type": "code",
   "execution_count": 36,
   "metadata": {},
   "outputs": [],
   "source": [
    "# get encode_indices of training images\n",
    "for images in train_loader:\n",
    "    images = images.cuda()\n",
    "    with torch.inference_mode():\n",
    "        z = model.encoder(images)\n",
    "        encoding_indices = model.vq_layer.get_code_indices(z)\n",
    "        train_indices = encoding_indices.cpu()"
   ]
  },
  {
   "cell_type": "code",
   "execution_count": 43,
   "metadata": {},
   "outputs": [
    {
     "data": {
      "image/png": "[encoded data removed]",
      "text/plain": [
       "<Figure size 640x480 with 1 Axes>"
      ]
     },
     "metadata": {},
     "output_type": "display_data"
    }
   ],
   "source": [
    "plt.hist(train_indices, bins=128);"
   ]
  },
  {
   "cell_type": "code",
   "execution_count": 48,
   "metadata": {},
   "outputs": [
    {
     "data": {
      "text/plain": [
       "tensor([0., 0., 0., 0., 0., 0., 0., 0., 0., 0., 0., 0., 0., 0., 0., 0., 0., 0.,\n",
       "        0., 0., 0., 0., 0., 0., 0., 0., 0., 0., 0., 0., 0., 0., 0., 0., 0., 0.,\n",
       "        0., 0., 0., 0., 0., 0., 0., 0., 0., 0., 0., 0., 0., 0., 0., 0., 0., 0.,\n",
       "        1., 0., 0., 0., 0., 0., 0., 0., 0., 0., 0., 0., 0., 0., 0., 0., 0., 0.,\n",
       "        0., 0., 0., 0., 0., 0., 0., 0., 0., 0., 0., 0., 0., 0., 0., 0., 0., 0.,\n",
       "        0., 0., 0., 0., 0., 0., 0., 0., 0., 0., 0., 0., 0., 0., 0., 0., 0., 0.,\n",
       "        0., 0., 0., 0., 0., 0., 0., 0., 0., 0., 0., 0., 0., 0., 0., 0., 0., 0.,\n",
       "        0., 0.])"
      ]
     },
     "execution_count": 48,
     "metadata": {},
     "output_type": "execute_result"
    }
   ],
   "source": [
    "F.one_hot(train_indices[0], 128).float()"
   ]
  }
 ],
 "metadata": {
  "interpreter": {
   "hash": "aaf2539f33e75514a52a69e11c9cb142363273430a0b4c8c28d4f26fb13d448c"
  },
  "kernelspec": {
   "display_name": "Python 3.12.3 ('ddpms')",
   "language": "python",
   "name": "python3"
  },
  "language_info": {
   "codemirror_mode": {
    "name": "ipython",
    "version": 3
   },
   "file_extension": ".py",
   "mimetype": "text/x-python",
   "name": "python",
   "nbconvert_exporter": "python",
   "pygments_lexer": "ipython3",
   "version": "3.12.3"
  },
  "orig_nbformat": 4
 },
 "nbformat": 4,
 "nbformat_minor": 2
}
